{
  "nbformat": 4,
  "nbformat_minor": 0,
  "metadata": {
    "colab": {
      "name": "NLP basics.ipynb",
      "version": "0.3.2",
      "provenance": [],
      "include_colab_link": true
    },
    "kernelspec": {
      "name": "python3",
      "display_name": "Python 3"
    }
  },
  "cells": [
    {
      "cell_type": "markdown",
      "metadata": {
        "id": "view-in-github",
        "colab_type": "text"
      },
      "source": [
        "<a href=\"https://colab.research.google.com/github/mmrbulbul/Basic-Data-processing-and-visualization/blob/master/NLP_basics.ipynb\" target=\"_parent\"><img src=\"https://colab.research.google.com/assets/colab-badge.svg\" alt=\"Open In Colab\"/></a>"
      ]
    },
    {
      "cell_type": "code",
      "metadata": {
        "id": "VBpYI-FlQ-wk",
        "colab_type": "code",
        "colab": {}
      },
      "source": [
        "import re"
      ],
      "execution_count": 0,
      "outputs": []
    },
    {
      "cell_type": "code",
      "metadata": {
        "id": "ZJfY9BAZQO4R",
        "colab_type": "code",
        "colab": {
          "base_uri": "https://localhost:8080/",
          "height": 34
        },
        "outputId": "7028d05b-66ab-42d6-b0ec-2f1f356e7c40"
      },
      "source": [
        "#regex  split , findall , search, match \n",
        "\n",
        "\n",
        "my_string = \"Let's write RegEx!\"\n",
        "PATTERN =r'\\w+'\n",
        "re.findall(PATTERN, my_string)\n"
      ],
      "execution_count": 9,
      "outputs": [
        {
          "output_type": "execute_result",
          "data": {
            "text/plain": [
              "['Let', 's', 'write', 'RegEx']"
            ]
          },
          "metadata": {
            "tags": []
          },
          "execution_count": 9
        }
      ]
    },
    {
      "cell_type": "code",
      "metadata": {
        "id": "Xtf6M1vsQ6xP",
        "colab_type": "code",
        "colab": {}
      },
      "source": [
        "my_string = \"Let's write RegEx!  Won't that be fun?  I sure think so.  Can you find 4 sentences?  Or perhaps, all 19 words?\""
      ],
      "execution_count": 0,
      "outputs": []
    },
    {
      "cell_type": "code",
      "metadata": {
        "id": "1HaTpf0OS4v9",
        "colab_type": "code",
        "colab": {
          "base_uri": "https://localhost:8080/",
          "height": 105
        },
        "outputId": "a9b3df59-d833-4c87-97d8-c6e8cb81b1e3"
      },
      "source": [
        "# print(my_string)\n",
        "# Write a pattern to match sentence endings: sentence_endings\n",
        "sentence_endings = r\"[.?!]\"\n",
        "\n",
        "# Split my_string on sentence endings and print the result\n",
        "print(re.split(sentence_endings, my_string))\n",
        "\n",
        "# Find all capitalized words in my_string and print the result\n",
        "capitalized_words = r\"[A-Z]\\w+\"\n",
        "print(re.findall(capitalized_words,my_string))\n",
        "\n",
        "# Split my_string on spaces and print the result\n",
        "spaces = r\"\\s\"\n",
        "print(re.split(spaces,my_string))\n",
        "\n",
        "# Find all digits in my_string and print the result\n",
        "digits = r\"\\d+\"\n",
        "print(re.findall(digits,my_string))\n"
      ],
      "execution_count": 11,
      "outputs": [
        {
          "output_type": "stream",
          "text": [
            "[\"Let's write RegEx\", \"  Won't that be fun\", '  I sure think so', '  Can you find 4 sentences', '  Or perhaps, all 19 words', '']\n",
            "['Let', 'RegEx', 'Won', 'Can', 'Or']\n",
            "[\"Let's\", 'write', 'RegEx!', '', \"Won't\", 'that', 'be', 'fun?', '', 'I', 'sure', 'think', 'so.', '', 'Can', 'you', 'find', '4', 'sentences?', '', 'Or', 'perhaps,', 'all', '19', 'words?']\n",
            "['4', '19']\n"
          ],
          "name": "stdout"
        }
      ]
    },
    {
      "cell_type": "code",
      "metadata": {
        "id": "NpIJkr7VUIMT",
        "colab_type": "code",
        "colab": {}
      },
      "source": [
        ""
      ],
      "execution_count": 0,
      "outputs": []
    },
    {
      "cell_type": "markdown",
      "metadata": {
        "id": "BFH1sf5HVBj5",
        "colab_type": "text"
      },
      "source": [
        "**TOKENIZATION**"
      ]
    },
    {
      "cell_type": "code",
      "metadata": {
        "id": "B8iL8psSVEKS",
        "colab_type": "code",
        "colab": {}
      },
      "source": [
        "from nltk.tokenize import word_tokenize"
      ],
      "execution_count": 0,
      "outputs": []
    },
    {
      "cell_type": "code",
      "metadata": {
        "id": "65TCMEZHVUKF",
        "colab_type": "code",
        "colab": {
          "base_uri": "https://localhost:8080/",
          "height": 204
        },
        "outputId": "a66bcea6-8cde-4ae9-c350-6ad85937926a"
      },
      "source": [
        "!wget https://norvig.com/big.txt"
      ],
      "execution_count": 18,
      "outputs": [
        {
          "output_type": "stream",
          "text": [
            "--2019-07-27 12:20:12--  https://norvig.com/big.txt\n",
            "Resolving norvig.com (norvig.com)... 158.106.138.13\n",
            "Connecting to norvig.com (norvig.com)|158.106.138.13|:443... connected.\n",
            "HTTP request sent, awaiting response... 200 OK\n",
            "Length: 6488666 (6.2M) [text/plain]\n",
            "Saving to: ‘big.txt’\n",
            "\n",
            "big.txt             100%[===================>]   6.19M  22.6MB/s    in 0.3s    \n",
            "\n",
            "2019-07-27 12:20:13 (22.6 MB/s) - ‘big.txt’ saved [6488666/6488666]\n",
            "\n"
          ],
          "name": "stdout"
        }
      ]
    },
    {
      "cell_type": "code",
      "metadata": {
        "id": "mZ0Sn_HOVdJK",
        "colab_type": "code",
        "colab": {
          "base_uri": "https://localhost:8080/",
          "height": 34
        },
        "outputId": "ddd87ce0-3ded-40c1-baab-5e3dda3f680e"
      },
      "source": [
        "!ls"
      ],
      "execution_count": 19,
      "outputs": [
        {
          "output_type": "stream",
          "text": [
            "big.txt  sample_data\n"
          ],
          "name": "stdout"
        }
      ]
    },
    {
      "cell_type": "code",
      "metadata": {
        "id": "mOXjSRsfX-tm",
        "colab_type": "code",
        "colab": {}
      },
      "source": [
        "text = open('big.txt','r')"
      ],
      "execution_count": 0,
      "outputs": []
    },
    {
      "cell_type": "code",
      "metadata": {
        "id": "yex_MZBwYFao",
        "colab_type": "code",
        "colab": {
          "base_uri": "https://localhost:8080/",
          "height": 564
        },
        "outputId": "2959461f-4ca8-4bda-dfa7-cd011714f703"
      },
      "source": [
        "scene_one = \"\"\n",
        "for i in range(30):\n",
        "  scene_one += text.readline()\n",
        "print(scene_one)"
      ],
      "execution_count": 40,
      "outputs": [
        {
          "output_type": "stream",
          "text": [
            "\"Then, how do you know?\"\n",
            "\n",
            "\"I see it, I deduce it. How do I know that you have been getting yourself very wet lately, and that you have a most clumsy and careless servant girl?\"\n",
            "\n",
            "\"My dear Holmes,\" said I, \"this is too much. You would certainly have been burned, had you lived a few centuries ago. It is true that I had a country walk on Thursday and came home in a dreadful mess, but as I have changed my clothes I can't imagine how you deduce it. As to Mary Jane, she is incorrigible, and my wife has given her notice, but there, again, I fail to see how you work it out.\"\n",
            "\n",
            "He chuckled to himself and rubbed his long, nervous hands together.\n",
            "\n",
            "\"It is simplicity itself,\" said he; \"my eyes tell me that on the inside of your left shoe, just where the firelight strikes it, the leather is scored by six almost parallel cuts. Obviously they have been caused by someone who has very carelessly scraped round the edges of the sole in order to remove crusted mud from it. Hence, you see, my double deduction that you had been out in vile weather, and that you had a particularly malignant boot-slitting specimen of the London slavey. As to your practice, if a gentleman walks into my rooms smelling of iodoform, with a black mark of nitrate of silver upon his right forefinger, and a bulge on the right side of his top-hat to show where he has secreted his stethoscope, I must be dull, indeed, if I do not pronounce him to be an active member of the medical profession.\"\n",
            "\n",
            "I could not help laughing at the ease with which he explained his process of deduction. \"When I hear you give your reasons,\" I remarked, \"the thing always appears to me to be so ridiculously simple that I could easily do it myself, though at each successive instance of your reasoning I am baffled until you explain your process. And yet I believe that my eyes are as good as yours.\"\n",
            "\n",
            "\"Quite so,\" he answered, lighting a cigarette, and throwing himself down into an armchair. \"You see, but you do not observe. The distinction is clear. For example, you have frequently seen the steps which lead up from the hall to this room.\"\n",
            "\n",
            "\"Frequently.\"\n",
            "\n",
            "\"How often?\"\n",
            "\n",
            "\"Well, some hundreds of times.\"\n",
            "\n",
            "\"Then how many are there?\"\n",
            "\n",
            "\"How many? I don't know.\"\n",
            "\n",
            "\"Quite so! You have not observed. And yet you have seen. That is just my point. Now, I know that there are seventeen steps, because I have both seen and observed. By the way, since you are interested in these little problems, and since you are good enough to chronicle one or two of my trifling experiences, you may be interested in this.\" He threw over a sheet of thick, pink-tinted notepaper which had been lying open upon the table. \"It came by the last post,\" said he. \"Read it aloud.\"\n",
            "\n",
            "The note was undated, and without either signature or address.\n",
            "\n",
            "\"There will call upon you to-night, at a quarter to eight o'clock,\" it said, \"a gentleman who desires to consult you upon a matter of the very deepest moment. Your recent services to one of the royal houses of Europe have shown that you are one who may safely be trusted with matters which are of an importance which can hardly be exaggerated. This account of you we have from all quarters received. Be in your chamber then at that hour, and do not take it amiss if your visitor wear a mask.\"\n",
            "\n",
            "\n"
          ],
          "name": "stdout"
        }
      ]
    },
    {
      "cell_type": "code",
      "metadata": {
        "id": "pYrPIKJuYGyx",
        "colab_type": "code",
        "colab": {
          "base_uri": "https://localhost:8080/",
          "height": 68
        },
        "outputId": "40e2348a-c0e7-4ae3-d18c-fbd32a5966ac"
      },
      "source": [
        "# Import necessary modules\n",
        "from nltk.tokenize import word_tokenize\n",
        "from nltk.tokenize import sent_tokenize\n",
        "import nltk\n",
        "nltk.download('punkt')\n",
        "\n",
        "\n"
      ],
      "execution_count": 44,
      "outputs": [
        {
          "output_type": "stream",
          "text": [
            "[nltk_data] Downloading package punkt to /root/nltk_data...\n",
            "[nltk_data]   Unzipping tokenizers/punkt.zip.\n"
          ],
          "name": "stdout"
        },
        {
          "output_type": "execute_result",
          "data": {
            "text/plain": [
              "True"
            ]
          },
          "metadata": {
            "tags": []
          },
          "execution_count": 44
        }
      ]
    },
    {
      "cell_type": "code",
      "metadata": {
        "id": "ctIsSWBPZ7Hb",
        "colab_type": "code",
        "colab": {}
      },
      "source": [
        "# Split scene_one into sentences: sentences\n",
        "sentences = sent_tokenize(scene_one)\n",
        "\n",
        "# Use word_tokenize to tokenize the fourth sentence: tokenized_sent\n",
        "tokenized_sent = word_tokenize(sentences[3])\n",
        "\n",
        "# Make a set of unique tokens in the entire scene: unique_tokens\n",
        "unique_tokens = set(word_tokenize(scene_one))\n",
        "\n"
      ],
      "execution_count": 0,
      "outputs": []
    },
    {
      "cell_type": "code",
      "metadata": {
        "id": "eGaXHb7QarI7",
        "colab_type": "code",
        "colab": {
          "base_uri": "https://localhost:8080/",
          "height": 54
        },
        "outputId": "5623f644-9af0-4563-c1f9-bb2b45a351dd"
      },
      "source": [
        "print(unique_tokens)"
      ],
      "execution_count": 46,
      "outputs": [
        {
          "output_type": "stream",
          "text": [
            "{'without', 'Your', 'would', 'pronounce', 'so', 'who', 'process', 'servant', 'importance', 'sheet', 'how', 'remove', 'give', 'mark', 'show', 'point', 'centuries', 'incorrigible', 'long', 'deduce', 'and', 'shoe', 'him', 'baffled', 'post', 'always', 'malignant', 'armchair', 'or', 'seventeen', 'deepest', 'last', 'could', 'consult', 'home', 'her', 'six', 'will', 'fail', 'member', 'some', 'this', 'we', 'steps', 'explain', 'forefinger', 'aloud', 'How', 'black', 'way', 'amiss', 'these', 'they', 'account', 'desires', 'lighting', 'since', 'as', 'just', 'few', 'by', 'which', 'There', 'wear', 'slavey', 'someone', 'on', 'room', 'tell', 'My', 'to-night', 'am', 'The', 'edges', 'see', 'both', 'been', \"n't\", 'not', 'again', 'pink-tinted', 'true', 'the', 'rooms', 'reasons', 'appears', 'problems', 'too', 'boot-slitting', 'call', 'moment', 'but', 'itself', 'enough', 'yet', 'Then', 'that', 'said', 'then', 'good', 'inside', 'either', 'gentleman', 'successive', 'one', 'weather', 'mud', 'That', 'imagine', 'burned', 'laughing', 'As', 'experiences', 'chuckled', 'top-hat', 'each', 'yours', 'certainly', 'It', 'up', 'ago', 'dear', 'reasoning', 'many', 'caused', 'do', 'silver', 'side', 'trusted', 'mask', 'wet', 'he', 'into', 'little', 'visitor', 'thing', 'yourself', '!', 'it', 'clumsy', 'shown', '.', 'Holmes', 'nervous', 'observe', 'there', 'throwing', 'often', 'country', 'table', 'parallel', 'if', 'specimen', 'cigarette', 'getting', 'simple', 'royal', 'ease', 'notepaper', 'medical', 'secreted', 'may', 'careless', 'exaggerated', 'dreadful', 'his', 'hands', 'remarked', 'particularly', 'matters', 'at', 'recent', 'changed', 'help', 'hear', 'example', 'ca', '?', 'Jane', 'seen', 'Europe', 'hardly', 'work', 'practice', 'very', 'London', 'distinction', 'open', 'chamber', 'have', 'instance', 'in', 'walks', 'Quite', 'firelight', 'dull', 'undated', 'Be', 'hall', 'lying', 'scored', 'with', 'down', 'lived', 'your', 'can', 'easily', 'For', 'notice', 'When', ';', 'hundreds', 'hour', 'of', 'deduction', \"o'clock\", 'And', 'out', 'leather', 'answered', 'interested', 'strikes', 'had', 'profession', 'rubbed', 'explained', 'Frequently', 'are', 'you', 'was', 'Read', 'Well', 'received', 'lead', 'my', 'frequently', 'services', 'girl', 'nitrate', 'threw', 'active', 'thick', 'indeed', 'By', 'scraped', 'together', 'sole', 'carelessly', 'trifling', 'clothes', 'houses', 'most', 'left', 'bulge', 'over', 'note', 'clear', 'though', ',', 'Now', 'Obviously', 'wife', 'He', 'from', 'because', 'signature', 'ridiculously', 'lately', 'all', 'stethoscope', 'two', 'to', 'myself', 'safely', 'almost', 'is', 'an', 'Thursday', 'double', 'eight', 'where', 'quarters', 'observed', 'until', 'right', 'be', 'much', 'chronicle', 'quarter', 'a', 'himself', '``', 'know', 'You', 'walk', 'must', 'matter', 'This', 'smelling', 'came', 'believe', 'crusted', 'simplicity', 'I', 'vile', 'Hence', 'she', 'has', 'order', 'given', 'times', 'address', 'take', 'cuts', 'upon', \"''\", 'me', 'eyes', 'mess', 'Mary', 'round', 'iodoform'}\n"
          ],
          "name": "stdout"
        }
      ]
    },
    {
      "cell_type": "code",
      "metadata": {
        "id": "yXDYs73nbNft",
        "colab_type": "code",
        "colab": {}
      },
      "source": [
        ""
      ],
      "execution_count": 0,
      "outputs": []
    }
  ]
}